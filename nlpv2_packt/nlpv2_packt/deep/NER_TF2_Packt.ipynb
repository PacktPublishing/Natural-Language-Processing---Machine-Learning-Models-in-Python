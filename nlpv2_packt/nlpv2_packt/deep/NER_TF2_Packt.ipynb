{
  "cells": [
    {
      "cell_type": "code",
      "execution_count": null,
      "metadata": {
        "id": "5Z_SdkcAIvLz"
      },
      "outputs": [

      ],
      "source": [
        "import pickle"
      ]
    },
    {
      "cell_type": "code",
      "execution_count": null,
      "metadata": {
        "colab": {
          "base_uri": "https://localhost:8080/"
        },
        "id": "gmVm26d_I0Fm",
        "outputId": "5d6d8853-1b6e-43d6-8a32-107133d6b90e"
      },
      "outputs": [
        {
          "name": "stdout",
          "output_type": "stream",
          "text": [
            "--2022-02-17 05:26:35--  https://lazyprogrammer.me/course_files/nlp/ner_train.pkl\n",
            "Resolving lazyprogrammer.me (lazyprogrammer.me)... 172.67.213.166, 104.21.23.210, 2606:4700:3030::ac43:d5a6, ...\n",
            "Connecting to lazyprogrammer.me (lazyprogrammer.me)|172.67.213.166|:443... connected.\n",
            "HTTP request sent, awaiting response... 200 OK\n",
            "Length: 4757208 (4.5M) [application/octet-stream]\n",
            "Saving to: ‘ner_train.pkl’\n",
            "\n",
            "ner_train.pkl       100%[===================>]   4.54M   511KB/s    in 12s     \n",
            "\n",
            "2022-02-17 05:26:47 (402 KB/s) - ‘ner_train.pkl’ saved [4757208/4757208]\n",
            "\n",
            "--2022-02-17 05:26:47--  https://lazyprogrammer.me/course_files/nlp/ner_test.pkl\n",
            "Resolving lazyprogrammer.me (lazyprogrammer.me)... 104.21.23.210, 172.67.213.166, 2606:4700:3030::ac43:d5a6, ...\n",
            "Connecting to lazyprogrammer.me (lazyprogrammer.me)|104.21.23.210|:443... connected.\n",
            "HTTP request sent, awaiting response... 200 OK\n",
            "Length: 1201978 (1.1M) [application/octet-stream]\n",
            "Saving to: ‘ner_test.pkl’\n",
            "\n",
            "ner_test.pkl        100%[===================>]   1.15M   586KB/s    in 2.0s    \n",
            "\n",
            "2022-02-17 05:26:50 (586 KB/s) - ‘ner_test.pkl’ saved [1201978/1201978]\n",
            "\n"
          ]
        }
      ],
      "source": [
        "# conll 2003\n",
        "!wget -nc https://lazyprogrammer.me/course_files/nlp/ner_train.pkl\n",
        "!wget -nc https://lazyprogrammer.me/course_files/nlp/ner_test.pkl"
      ]
    },
    {
      "cell_type": "code",
      "execution_count": null,
      "metadata": {
        "id": "m0THSKtbI2I_"
      },
      "outputs": [

      ],
      "source": [
        "with open('ner_train.pkl', 'rb') as f:\n",
        "  corpus_train = pickle.load(f)\n",
        "\n",
        "with open('ner_test.pkl', 'rb') as f:\n",
        "  corpus_test = pickle.load(f)"
      ]
    },
    {
      "cell_type": "code",
      "execution_count": null,
      "metadata": {
        "id": "p8Qi2Pd1I45J"
      },
      "outputs": [

      ],
      "source": [
        "import numpy as np\n",
        "import pandas as pd\n",
        "import tensorflow as tf\n",
        "import matplotlib.pyplot as plt\n",
        "from sklearn.model_selection import train_test_split\n",
        "\n",
        "from tensorflow.keras.preprocessing.text import Tokenizer\n",
        "from tensorflow.keras.preprocessing.sequence import pad_sequences\n",
        "from tensorflow.keras.layers import Dense, Input, Bidirectional\n",
        "from tensorflow.keras.layers import LSTM, GRU, SimpleRNN, Embedding\n",
        "from tensorflow.keras.models import Model\n",
        "from tensorflow.keras.losses import SparseCategoricalCrossentropy"
      ]
    },
    {
      "cell_type": "code",
      "execution_count": null,
      "metadata": {
        "id": "3NsAwrr0JQs3"
      },
      "outputs": [

      ],
      "source": [
        "### Baseline model: map word to tag\n",
        "from collections import Counter\n",
        "\n",
        "# https://stackoverflow.com/questions/1518522/find-the-most-common-element-in-a-list\n",
        "def most_common(lst):\n",
        "    data = Counter(lst)\n",
        "    return data.most_common(1)[0][0]"
      ]
    },
    {
      "cell_type": "code",
      "source": [

      ],
      "metadata": {
        "id": "S0acXBWCxiJL"
      },
      "execution_count": null,
      "outputs": [

      ]
    },
    {
      "cell_type": "code",
      "source": [

      ],
      "metadata": {
        "id": "oaG3igwFxiQU"
      },
      "execution_count": null,
      "outputs": [

      ]
    },
    {
      "cell_type": "code",
      "source": [

      ],
      "metadata": {
        "id": "PzQJleyoxiWi"
      },
      "execution_count": null,
      "outputs": [

      ]
    },
    {
      "cell_type": "markdown",
      "source": [
        "![](https://deeplearningcourses.com/notebooks_v3_pxl?sc=HsDN1WGq62SD3kjPA-V3Qg&n=NER+TF2)"
      ],
      "metadata": {
        "id": "PFJd4PmsxjKb"
      }
    }
  ],
  "metadata": {
    "colab": {
      "provenance": [

      ]
    },
    "kernelspec": {
      "display_name": "Python 3 (ipykernel)",
      "language": "python",
      "name": "python3"
    },
    "language_info": {
      "codemirror_mode": {
        "name": "ipython",
        "version": 3
      },
      "file_extension": ".py",
      "mimetype": "text/x-python",
      "name": "python",
      "nbconvert_exporter": "python",
      "pygments_lexer": "ipython3",
      "version": "3.10.12"
    },
    "sc": "HsDN1WGq62SD3kjPA-V3Qg"
  },
  "nbformat": 4,
  "nbformat_minor": 1
}