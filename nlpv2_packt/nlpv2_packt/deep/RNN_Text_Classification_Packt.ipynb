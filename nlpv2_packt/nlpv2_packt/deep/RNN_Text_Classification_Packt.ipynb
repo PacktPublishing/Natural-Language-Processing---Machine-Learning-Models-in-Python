{
  "cells": [
    {
      "cell_type": "code",
      "execution_count": null,
      "metadata": {
        "colab": {
          "base_uri": "https://localhost:8080/"
        },
        "id": "ZSSj2F5kAbk_",
        "outputId": "7914300c-7169-4e85-ff77-2be02a5b2277"
      },
      "outputs": [
        {
          "name": "stdout",
          "output_type": "stream",
          "text": [
            "--2022-02-17 07:37:41--  https://lazyprogrammer.me/course_files/nlp/bbc_text_cls.csv\n",
            "Resolving lazyprogrammer.me (lazyprogrammer.me)... 104.21.23.210, 172.67.213.166, 2606:4700:3031::6815:17d2, ...\n",
            "Connecting to lazyprogrammer.me (lazyprogrammer.me)|104.21.23.210|:443... connected.\n",
            "HTTP request sent, awaiting response... 200 OK\n",
            "Length: 5085081 (4.8M) [text/csv]\n",
            "Saving to: ‘bbc_text_cls.csv’\n",
            "\n",
            "bbc_text_cls.csv    100%[===================>]   4.85M  5.39MB/s    in 0.9s    \n",
            "\n",
            "2022-02-17 07:37:42 (5.39 MB/s) - ‘bbc_text_cls.csv’ saved [5085081/5085081]\n",
            "\n"
          ]
        }
      ],
      "source": [
        "# https://www.kaggle.com/shivamkushwaha/bbc-full-text-document-classification\n",
        "!wget -nc https://lazyprogrammer.me/course_files/nlp/bbc_text_cls.csv"
      ]
    },
    {
      "cell_type": "code",
      "execution_count": null,
      "metadata": {
        "id": "xeyoJXkDOo7T"
      },
      "outputs": [

      ],
      "source": [
        "import numpy as np\n",
        "import pandas as pd\n",
        "import tensorflow as tf\n",
        "import matplotlib.pyplot as plt\n",
        "from sklearn.model_selection import train_test_split\n",
        "\n",
        "from tensorflow.keras.preprocessing.text import Tokenizer\n",
        "from tensorflow.keras.preprocessing.sequence import pad_sequences\n",
        "from tensorflow.keras.layers import Dense, Input, GlobalMaxPooling1D\n",
        "from tensorflow.keras.layers import LSTM, GRU, SimpleRNN, Embedding\n",
        "from tensorflow.keras.models import Model\n",
        "from tensorflow.keras.losses import SparseCategoricalCrossentropy"
      ]
    },
    {
      "cell_type": "code",
      "execution_count": null,
      "metadata": {
        "id": "I_3jJI8VPVxm"
      },
      "outputs": [

      ],
      "source": [
        "# Exercise: try other models\n",
        "# 1) multiple LSTM layers\n",
        "# 2) GRU instead of LSTM\n",
        "# 3) SimpleRNN instead of LSTM\n",
        "# 4) return_sequences=False, and no maxpool\n",
        "# 5) For 1-4, try different values of number of hidden units\n",
        "# 6) Combinations of the above\n",
        "\n",
        "# Common beginner question:\n",
        "# \"how can I choose the best combination of hyperparameters?\"\n",
        "# This is how! There is no shortcut!"
      ]
    },
    {
      "cell_type": "code",
      "source": [

      ],
      "metadata": {
        "id": "S0acXBWCxiJL"
      },
      "execution_count": null,
      "outputs": [

      ]
    },
    {
      "cell_type": "code",
      "source": [

      ],
      "metadata": {
        "id": "oaG3igwFxiQU"
      },
      "execution_count": null,
      "outputs": [

      ]
    },
    {
      "cell_type": "code",
      "source": [

      ],
      "metadata": {
        "id": "PzQJleyoxiWi"
      },
      "execution_count": null,
      "outputs": [

      ]
    },
    {
      "cell_type": "markdown",
      "source": [
        "![](https://deeplearningcourses.com/notebooks_v3_pxl?sc=HsDN1WGq62SD3kjPA-V3Qg&n=RNN+Text+Classification)"
      ],
      "metadata": {
        "id": "PFJd4PmsxjKb"
      }
    }
  ],
  "metadata": {
    "accelerator": "GPU",
    "colab": {
      "provenance": [

      ]
    },
    "kernelspec": {
      "display_name": "Python 3 (ipykernel)",
      "language": "python",
      "name": "python3"
    },
    "language_info": {
      "codemirror_mode": {
        "name": "ipython",
        "version": 3
      },
      "file_extension": ".py",
      "mimetype": "text/x-python",
      "name": "python",
      "nbconvert_exporter": "python",
      "pygments_lexer": "ipython3",
      "version": "3.10.12"
    },
    "sc": "HsDN1WGq62SD3kjPA-V3Qg"
  },
  "nbformat": 4,
  "nbformat_minor": 1
}